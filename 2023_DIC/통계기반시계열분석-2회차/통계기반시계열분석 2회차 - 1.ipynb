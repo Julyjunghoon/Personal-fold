{
 "cells": [
  {
   "cell_type": "code",
   "execution_count": null,
   "metadata": {
    "id": "gvI1HJtWnq_M"
   },
   "outputs": [],
   "source": [
    "!pip install IPython\n",
    "from IPython.display import Image"
   ]
  },
  {
   "cell_type": "code",
   "execution_count": null,
   "metadata": {
    "id": "jAM51Z7znq_V"
   },
   "outputs": [],
   "source": [
    "!git clone https://github.com/Jiyoon52/LG_time_series_day02_dataset.git # colab 사용시"
   ]
  },
  {
   "cell_type": "code",
   "execution_count": null,
   "metadata": {
    "id": "dYCNeMYEnq_Q"
   },
   "outputs": [],
   "source": [
    "# Image('image/image_1.JPG') # 로컬 사용시\n",
    "Image('/content/LG_time_series_day02_dataset/image/image_1.JPG') # colab 사용시"
   ]
  },
  {
   "cell_type": "code",
   "execution_count": null,
   "metadata": {
    "id": "hy5fsUOnnq_Q"
   },
   "outputs": [],
   "source": [
    "Image('/content/LG_time_series_day02_dataset/image/image_2.JPG')"
   ]
  },
  {
   "cell_type": "code",
   "execution_count": null,
   "metadata": {
    "id": "fxyrbfBknq_R"
   },
   "outputs": [],
   "source": [
    "Image('/content/LG_time_series_day02_dataset/image/image_3.JPG')"
   ]
  },
  {
   "cell_type": "markdown",
   "metadata": {
    "id": "9uXbP9sNnq_S"
   },
   "source": [
    "# [예측모델] \n",
    "\n",
    "## - 구간평균법 \n",
    "## - 단순지수평활법 \n",
    "## - 이중지수평활법 \n",
    "## - 홀트-윈터지수평활법 "
   ]
  },
  {
   "cell_type": "markdown",
   "metadata": {
    "id": "QL7l9L4Jnq_T"
   },
   "source": [
    "##### jupyter notebook 단축키\n",
    "\n",
    "- ctrl+enter: 셀 실행   \n",
    "- shift+enter: 셀 실행 및 다음 셀 이동   \n",
    "- alt+enter: 셀 실행, 다음 셀 이동, 새로운 셀 생성\n",
    "- a: 상단에 새로운 셀 만들기\n",
    "- b: 하단에 새로운 셀 만들기\n",
    "- dd: 셀 삭제(x: 셀 삭제)"
   ]
  },
  {
   "cell_type": "markdown",
   "metadata": {
    "id": "Fr9IowEpnq_U"
   },
   "source": [
    "### 1. 모듈 불러오기"
   ]
  },
  {
   "cell_type": "code",
   "execution_count": null,
   "metadata": {
    "id": "9ueLs11Jnq_W"
   },
   "outputs": [],
   "source": [
    "import os\n",
    "\n",
    "import pandas as pd\n",
    "import pandas_datareader.data as pdr\n",
    "\n",
    "import numpy as np\n",
    "\n",
    "from sklearn.model_selection import train_test_split\n",
    "from sklearn.metrics import mean_squared_error, mean_absolute_error, r2_score\n",
    "def mean_absolute_percentage_error(y_true, y_pred):\n",
    "    y_true, y_pred = np.array(y_true), np.array(y_pred)\n",
    "    return np.mean(np.abs((y_true-y_pred)/y_true))*100\n",
    "\n",
    "from sklearn.datasets import fetch_openml\n",
    "import statsmodels.api as sm\n",
    "from statsmodels.tsa.holtwinters import ExponentialSmoothing\n",
    "\n",
    "import matplotlib.pyplot as plt\n",
    "import matplotlib\n",
    "plt.style.use('seaborn-whitegrid')\n",
    "\n",
    "import seaborn as sns\n",
    "#sns.set_style(\"white\")\n",
    "\n",
    "import itertools\n",
    "%matplotlib inline\n",
    "\n",
    "import warnings\n",
    "warnings.filterwarnings(action='ignore') "
   ]
  },
  {
   "cell_type": "markdown",
   "metadata": {
    "id": "KL9O-z5Pnq_Y"
   },
   "source": [
    "### 2. 데이터 불러오기"
   ]
  },
  {
   "cell_type": "code",
   "execution_count": null,
   "metadata": {
    "id": "uY0qah7rnq_Y"
   },
   "outputs": [],
   "source": [
    "Image('/content/LG_time_series_day02_dataset/image/image_4.JPG')"
   ]
  },
  {
   "cell_type": "code",
   "execution_count": null,
   "metadata": {
    "id": "y4t-KvVLnq_Z"
   },
   "outputs": [],
   "source": [
    "# co2_data = pd.read_csv('data/co2.csv')\n",
    "co2_data = pd.read_csv('/content/LG_time_series_day02_dataset/data/co2.csv')"
   ]
  },
  {
   "cell_type": "markdown",
   "metadata": {
    "id": "qEXesS9Dnq_Z"
   },
   "source": [
    "#### 2.1 Data Preprocessing"
   ]
  },
  {
   "cell_type": "code",
   "execution_count": null,
   "metadata": {
    "id": "bhgiuNpFnq_a"
   },
   "outputs": [],
   "source": [
    "'''\n",
    "년/월/일 병합하여 'data' 변수 생성\n",
    "'''\n",
    "co2_data['date'] = pd.to_datetime(co2_data[['year', 'month', 'day']]) # 데이터를 날짜정보로 인식하고 병합된 형태로 변환\n",
    "data = co2_data[['date', 'co2']].set_index('date') # date 변수를 index로 변환"
   ]
  },
  {
   "cell_type": "code",
   "execution_count": null,
   "metadata": {
    "id": "BKSKQHdqnq_a"
   },
   "outputs": [],
   "source": [
    "data.head() # 상위 5개"
   ]
  },
  {
   "cell_type": "code",
   "execution_count": null,
   "metadata": {
    "id": "e94ovbFlnq_a"
   },
   "outputs": [],
   "source": [
    "data.tail() # 하위 5개"
   ]
  },
  {
   "cell_type": "code",
   "execution_count": null,
   "metadata": {
    "id": "gqZPizHfnq_b"
   },
   "outputs": [],
   "source": [
    "data.shape # 데이터 차원 확인"
   ]
  },
  {
   "cell_type": "code",
   "execution_count": null,
   "metadata": {
    "id": "Mkym7Av-nq_b"
   },
   "outputs": [],
   "source": [
    "data.describe() # 데이터 통계값 확인"
   ]
  },
  {
   "cell_type": "code",
   "execution_count": null,
   "metadata": {
    "id": "rSYIsG_5nq_b"
   },
   "outputs": [],
   "source": [
    "data.index # 데이터 인덱스(순서정보) 확인"
   ]
  },
  {
   "cell_type": "code",
   "execution_count": null,
   "metadata": {
    "id": "DJxJpmsonq_c"
   },
   "outputs": [],
   "source": [
    "'''\n",
    "s: 초\n",
    "T: 분\n",
    "H: 시간\n",
    "D: 일(day)\n",
    "B: 주말이 아닌 평일\n",
    "W: 주(일요일)\n",
    "W-MON: 주(월요일)\n",
    "M: 각 달(month)의 마지막 날\n",
    "MS: 각 달의 첫날\n",
    "BM: 주말이 아닌 평일 중에서 각 달의 마지막 날\n",
    "BMS: 주말이 아닌 평일 중에서 각 달의 첫날\n",
    "WOM-2THU: 각 달의 두번째 목요일\n",
    "Q-JAN: 각 분기의 첫달의 마지막 날\n",
    "Q-DEC: 각 분기의 마지막 달의 마지막 날\n",
    "'''\n",
    "\n",
    "data = data.asfreq('W-SAT') # 주(토요일)\n",
    "data.index"
   ]
  },
  {
   "cell_type": "code",
   "execution_count": null,
   "metadata": {
    "id": "W9HPfiPynq_c"
   },
   "outputs": [],
   "source": [
    "data.info() # 전체 데이터 개요 및 결측치 정보 확인"
   ]
  },
  {
   "cell_type": "code",
   "execution_count": null,
   "metadata": {
    "id": "Dyf7cGJ5nq_c"
   },
   "outputs": [],
   "source": [
    "data.isnull().sum() # 결측값(빈값, Nan, Null) 수 확인"
   ]
  },
  {
   "cell_type": "code",
   "execution_count": null,
   "metadata": {
    "id": "WpdttqKanq_d"
   },
   "outputs": [],
   "source": [
    "# https://pandas.pydata.org/docs/reference/api/pandas.DataFrame.fillna.html\n",
    "# https://rfriend.tistory.com/262\n",
    "data = data.fillna(data.bfill()) # 결측값 바로 뒤 값으로 대체 (fill values backward) \n",
    "# data = data.fillna(data.ffill()) # 결측값 바로 앞 값으로 대체 (fill values forward) \n",
    "\n",
    "data.isnull().sum()"
   ]
  },
  {
   "cell_type": "code",
   "execution_count": null,
   "metadata": {
    "id": "DCFtnNg9nq_d"
   },
   "outputs": [],
   "source": [
    "data.shape # 데이터 차원 확인 (날짜 및 결측치 처리 후)"
   ]
  },
  {
   "cell_type": "code",
   "execution_count": null,
   "metadata": {
    "id": "iZYNFkyJnq_d"
   },
   "outputs": [],
   "source": [
    "'''\n",
    "데이터 시각화를 통해 전체 개요 확인\n",
    "'''\n",
    "data.plot(figsize=(12,4)) # color='green', linestyle='--', linewidth=1\n",
    "\n",
    "plt.xticks(fontsize=11)\n",
    "plt.yticks(fontsize=11)\n",
    "plt.legend('')\n",
    "\n",
    "plt.title('Raw air samples measurements from the Mauna Loa Observatory \\n', fontsize=15)\n",
    "plt.xlabel('\\n Year', fontsize=13)\n",
    "plt.ylabel('Co2 \\n', fontsize=13)\n",
    "plt.tight_layout()\n",
    "plt.show()"
   ]
  },
  {
   "cell_type": "code",
   "execution_count": null,
   "metadata": {
    "id": "MDKnqNBnnq_e"
   },
   "outputs": [],
   "source": [
    "# Seasonal decomposition plot: Seasonal decomposition using moving averages.\n",
    "# https://www.statsmodels.org/stable/generated/statsmodels.tsa.seasonal.seasonal_decompose.html\n",
    "\n",
    "# Observed: observed data\n",
    "# Trend: The estimated trend component\n",
    "# Seasonal: The estimated seasonal component\n",
    "# resid: The estimated residuals\n",
    "\n",
    "decompostion = sm.tsa.seasonal_decompose(data['co2'],  model='additive')\n",
    "\n",
    "fig = decompostion.plot()\n",
    "fig.set_size_inches(10,10)\n",
    "plt.show()"
   ]
  },
  {
   "cell_type": "code",
   "execution_count": null,
   "metadata": {
    "id": "z1O6oi8cnq_e"
   },
   "outputs": [],
   "source": [
    "'''\n",
    "Train Test Split (날짜를 기준으로 분할하여)\n",
    "'''\n",
    "train = data[:'1989-12']\n",
    "test  = data['1990-01':]"
   ]
  },
  {
   "cell_type": "markdown",
   "metadata": {
    "id": "zxG4ygKAnq_e"
   },
   "source": [
    "### 3. Moving Average (구간평균법)"
   ]
  },
  {
   "cell_type": "code",
   "execution_count": null,
   "metadata": {
    "id": "jRI10u65nq_f"
   },
   "outputs": [],
   "source": [
    "Image('/content/LG_time_series_day02_dataset/image/image_5.JPG')"
   ]
  },
  {
   "cell_type": "code",
   "execution_count": null,
   "metadata": {
    "id": "R7hlm8jInq_f"
   },
   "outputs": [],
   "source": [
    "Image('/content/LG_time_series_day02_dataset/image/image_6.JPG')"
   ]
  },
  {
   "cell_type": "code",
   "execution_count": null,
   "metadata": {
    "id": "jmJd0HwPnq_f"
   },
   "outputs": [],
   "source": [
    "'''\n",
    "Version 1\n",
    "\n",
    "직접 재현해보기\n",
    "'''\n",
    "def Moving_Average(x, N):\n",
    "    x = x.values.flatten()\n",
    "    \n",
    "    pred = np.convolve(x, np.ones(N) / float(N), 'valid')\n",
    "    pred = np.concatenate((np.zeros(N-1), pred), axis=0)\n",
    "    pred[:N-1] = np.nan\n",
    "    return pred\n",
    "\n",
    "MA_train_pred = pd.DataFrame(Moving_Average(train, 5), index=train.index, columns=['MA_5'])\n",
    "MA_test_pred = pd.DataFrame(np.array([MA_train_pred.iloc[-1]]*len(test)), index=test.index, columns=['MA_5'])\n",
    "\n",
    "print('Moving Average Train results')\n",
    "print(MA_train_pred)\n",
    "print('-'*30)\n",
    "print('Moving Average Test results')\n",
    "print(MA_test_pred)"
   ]
  },
  {
   "cell_type": "code",
   "execution_count": null,
   "metadata": {
    "id": "qfJZXvTNnq_f"
   },
   "outputs": [],
   "source": [
    "Image('/content/LG_time_series_day02_dataset/image/image_7.JPG')"
   ]
  },
  {
   "cell_type": "code",
   "execution_count": null,
   "metadata": {
    "id": "khARZ0Sznq_g"
   },
   "outputs": [],
   "source": [
    "'''\n",
    "Version 2 \n",
    "\n",
    "https://pandas.pydata.org/docs/reference/api/pandas.DataFrame.rolling.html\n",
    "'''\n",
    "\n",
    "MA_train_pred = train.rolling(5).mean() # Option: min_periods=1 \n",
    "MA_train_pred.columns = ['MA_5']\n",
    "\n",
    "MA_test_pred = pd.DataFrame(np.array([MA_train_pred.iloc[-1]]*len(test)), index=test.index, columns=['MA_5'])\n",
    "prediction = pd.concat([MA_train_pred, MA_test_pred], axis=0)\n",
    "\n",
    "print('Moving Average Train Results')\n",
    "print(MA_train_pred)\n",
    "print('-'*30)\n",
    "print('Moving Average Test Results')\n",
    "print(MA_test_pred)"
   ]
  },
  {
   "cell_type": "code",
   "execution_count": null,
   "metadata": {
    "id": "tz_yybjZnq_g"
   },
   "outputs": [],
   "source": [
    "'''\n",
    "Visualization \n",
    "'''\n",
    "fig, ax = plt.subplots(figsize=(12,4))\n",
    "data.plot(ax=ax)\n",
    "prediction.plot(ax=ax, label = 'Prediction (N=5)')\n",
    "ax.vlines(test.index[0], 310, 370, linestyle='--', color='r')\n",
    "ax.legend(['Raw Dataset', 'Prediction (N=5)', 'Start of Forecast'], loc='upper left')\n",
    "plt.title('Moving Average Results (Train and Test)')\n",
    "plt.tight_layout()\n",
    "plt.show()\n",
    "\n",
    "# Only Test\n",
    "# fig, ax = plt.subplots(figsize=(12,4))\n",
    "# data.plot(ax=ax)\n",
    "# MA_test_pred.plot(ax=ax, label = 'Prediction (N=5)')\n",
    "# ax.vlines(test.index[0], 310, 370, linestyle='--', color='r')\n",
    "# ax.legend(['Raw Dataset', 'Prediction (N=5)', 'Start of Forecast'], loc='upper left')\n",
    "# plt.title('Moving Average Results (Only Test)')\n",
    "# plt.tight_layout()\n",
    "# plt.show()"
   ]
  },
  {
   "cell_type": "markdown",
   "metadata": {
    "id": "E1VE25-fnq_g"
   },
   "source": [
    "##### 정량적 지표를 통한 모델 검증"
   ]
  },
  {
   "cell_type": "markdown",
   "metadata": {
    "id": "wsOp2o87nq_g"
   },
   "source": [
    "###### Mean Squared Error (평균 제곱 오차) <br>\n",
    "$\\frac{1}{n} \\sum_{i=1}^{n} (y_{i} - \\hat{y}_{i})^{2}$   "
   ]
  },
  {
   "cell_type": "code",
   "execution_count": null,
   "metadata": {
    "id": "YC0GLvknnq_h"
   },
   "outputs": [],
   "source": [
    "print(f'MSE: {np.round(mean_squared_error(test, MA_test_pred), 2)}')"
   ]
  },
  {
   "cell_type": "markdown",
   "metadata": {
    "id": "kLPKcP-nnq_h"
   },
   "source": [
    "######  Root Mean Squared Error (제곱근 평균 제곱 오차) <br>\n",
    "$\\sqrt{\\frac{1}{n} \\sum_{i=1}^{n} (y_{i} - \\hat{y}_{i})^{2}}$"
   ]
  },
  {
   "cell_type": "code",
   "execution_count": null,
   "metadata": {
    "id": "vfgVs02rnq_h"
   },
   "outputs": [],
   "source": [
    "print(f'RMSE: {np.round(np.sqrt(mean_squared_error(test,MA_test_pred)), 2)}')"
   ]
  },
  {
   "cell_type": "markdown",
   "metadata": {
    "id": "oqUUVNggnq_h"
   },
   "source": [
    "##### Mean Absolute Error (평균 절대 오차) <br>\n",
    "$\\frac{1}{n} \\sum_{i=1}^{n} |y_{i} - \\hat{y}_{i}|$"
   ]
  },
  {
   "cell_type": "code",
   "execution_count": null,
   "metadata": {
    "id": "eK51MDcEnq_h"
   },
   "outputs": [],
   "source": [
    "print(f'MAE: {np.round(mean_absolute_error(test, MA_test_pred), 2)}')"
   ]
  },
  {
   "cell_type": "markdown",
   "metadata": {
    "id": "tean69Cdnq_i"
   },
   "source": [
    "#####  R squared (결정계수 $({r})^{2}$) <br>\n",
    "$\\frac{SSR}{SST} = 1- \\frac{SSR}{SST}%$"
   ]
  },
  {
   "cell_type": "code",
   "execution_count": null,
   "metadata": {
    "id": "-NL0FTFPnq_i"
   },
   "outputs": [],
   "source": [
    "print(f'R2 score: {np.round(r2_score(test, MA_test_pred), 2)}')"
   ]
  },
  {
   "cell_type": "code",
   "execution_count": null,
   "metadata": {
    "id": "dBfOjVXFnq_i"
   },
   "outputs": [],
   "source": [
    "Image('/content/LG_time_series_day02_dataset/image/image_8.JPG')"
   ]
  },
  {
   "cell_type": "markdown",
   "metadata": {
    "id": "rV2BnEzanq_i"
   },
   "source": [
    "### 4. Exponential Smoothing (지수평활법)"
   ]
  },
  {
   "cell_type": "markdown",
   "metadata": {
    "id": "3Va0xnU0nq_i"
   },
   "source": [
    "#### 4.1 Simple Exponential Smoothing (단순지수평활법)"
   ]
  },
  {
   "cell_type": "code",
   "execution_count": null,
   "metadata": {
    "id": "PwP6V669nq_i"
   },
   "outputs": [],
   "source": [
    "Image('/content/LG_time_series_day02_dataset/image/image_9.JPG')"
   ]
  },
  {
   "cell_type": "code",
   "execution_count": null,
   "metadata": {
    "id": "RO7JlUwxnq_j"
   },
   "outputs": [],
   "source": [
    "# 초기 테이블 생성\n",
    "L_0 = np.mean(train)  # initial value (L0계산)\n",
    "\n",
    "SES_train = train.copy()\n",
    "SES_train = pd.concat([pd.DataFrame(np.zeros(1), columns=['co2']), SES_train])\n",
    "SES_train['Level'] = np.nan\n",
    "SES_train['Forecast'] = np.nan\n",
    "SES_train.loc[0,'Level'] = L_0.values\n",
    "\n",
    "SES_train"
   ]
  },
  {
   "cell_type": "code",
   "execution_count": null,
   "metadata": {
    "id": "gT5oaZqsnq_j"
   },
   "outputs": [],
   "source": [
    "Image('/content/LG_time_series_day02_dataset/image/image_10.JPG')"
   ]
  },
  {
   "cell_type": "code",
   "execution_count": null,
   "metadata": {
    "id": "Y5M4PzdKnq_j"
   },
   "outputs": [],
   "source": [
    "'''\n",
    "Version 1\n",
    "'''\n",
    "def Simple_Exponential_Smoothing(table, alpha):\n",
    "    # table = SES_train.copy()\n",
    "    # alpha = 0.9\n",
    "    for i in range(len(table)):\n",
    "        if i == 0: # Skip initialization point\n",
    "            continue\n",
    "\n",
    "        x = table.loc[list(table.index)[i],'co2'] # 316.1\n",
    "        L_prev = table.loc[list(table.index)[i-1],'Level'] # 331.23\n",
    "        table.loc[list(table.index)[i],'Level'] = alpha*x + (1-alpha)*(L_prev)\n",
    "\n",
    "    L_pred = table.iloc[-1,1]\n",
    "    SES_test_pred = [L_pred]*len(test)\n",
    "    SES_test_pred = pd.DataFrame(SES_test_pred, index=test.index, columns=[f'SES_{alpha}'])\n",
    "        \n",
    "    return table, SES_test_pred"
   ]
  },
  {
   "cell_type": "code",
   "execution_count": null,
   "metadata": {
    "id": "fB96Etxdnq_j"
   },
   "outputs": [],
   "source": [
    "SES_train_pred, SES_test_pred = Simple_Exponential_Smoothing(SES_train, 0.9)"
   ]
  },
  {
   "cell_type": "code",
   "execution_count": null,
   "metadata": {
    "id": "WSwFFvo_nq_j"
   },
   "outputs": [],
   "source": [
    "print('Simple Exponential Smoothing Train Results')\n",
    "print(SES_train_pred)\n",
    "print('-'*30)\n",
    "print('Simple Exponential Smoothing Test results')\n",
    "print(SES_test_pred)"
   ]
  },
  {
   "cell_type": "code",
   "execution_count": null,
   "metadata": {
    "id": "3snYXi4hnq_k"
   },
   "outputs": [],
   "source": [
    "Image('/content/LG_time_series_day02_dataset/image/image_11.JPG')"
   ]
  },
  {
   "cell_type": "code",
   "execution_count": null,
   "metadata": {
    "id": "gyZ1XD6_nq_k"
   },
   "outputs": [],
   "source": [
    "Image('/content/LG_time_series_day02_dataset/image/image_12.JPG')"
   ]
  },
  {
   "cell_type": "code",
   "execution_count": null,
   "metadata": {
    "id": "Pz4LlNk_nq_k"
   },
   "outputs": [],
   "source": [
    "'''\n",
    "Version 2\n",
    "\n",
    "https://pandas.pydata.org/docs/reference/api/pandas.DataFrame.ewm.html\n",
    "'''\n",
    "# adjust를 통해 초기값을 설정할 수 있음\n",
    "# 교육자료와 통일시키기 위해 초기값(L_0)은 평균값을 활용하는 임의의 코드를 구성\n",
    "SES_train_pred_09 = pd.concat([pd.DataFrame([L_0], columns=['co2']), train]).ewm(alpha=0.9, adjust=False).mean().iloc[1:]\n",
    "SES_train_pred_09.columns = ['SES_09']\n",
    "SES_test_pred_09 = pd.DataFrame(np.array([SES_train_pred_09.iloc[-1]]*len(test)),\n",
    "                                index=test.index, columns=['SES_09'])\n",
    "prediction_09 = pd.concat([SES_train_pred_09, SES_test_pred_09], axis=0)\n",
    "\n",
    "SES_train_pred_05 = pd.concat([pd.DataFrame([L_0], columns=['co2']), train]).ewm(alpha=0.5, adjust=False).mean().iloc[1:]\n",
    "SES_train_pred_05.columns = ['SES_05']\n",
    "SES_test_pred_05 = pd.DataFrame(np.array([SES_train_pred_05.iloc[-1]]*len(test)),\n",
    "                                index=test.index, columns=['SES_05'])\n",
    "prediction_05 = pd.concat([SES_train_pred_05, SES_test_pred_05], axis=0)\n",
    "\n",
    "SES_train_pred_01 = pd.concat([pd.DataFrame([L_0], columns=['co2']), train]).ewm(alpha=0.1, adjust=False).mean().iloc[1:]\n",
    "SES_train_pred_01.columns = ['SES_01']\n",
    "SES_test_pred_01 = pd.DataFrame(np.array([SES_train_pred_01.iloc[-1]]*len(test)),\n",
    "                                index=test.index, columns=['SES_01'])\n",
    "prediction_01 = pd.concat([SES_train_pred_01, SES_test_pred_01], axis=0)"
   ]
  },
  {
   "cell_type": "code",
   "execution_count": null,
   "metadata": {
    "id": "8EHVSOTtnq_k"
   },
   "outputs": [],
   "source": [
    "'''\n",
    "Visualization \n",
    "'''\n",
    "fig, ax = plt.subplots(figsize=(12,4))\n",
    "data.plot(ax=ax)\n",
    "prediction_09.plot(ax=ax, label = 'Prediction (alpha=0.9)')\n",
    "prediction_05.plot(ax=ax, label = 'Prediction (alpha=0.5)')\n",
    "prediction_01.plot(ax=ax, label = 'Prediction (alpha=0.1)')\n",
    "\n",
    "ax.vlines(test.index[0], 310, 370, linestyle='--', color='r')\n",
    "ax.legend(['Raw Dataset', 'Prediction (alpha=0.9)', 'Prediction (alpha=0.5)', 'Prediction (alpha=0.1)', 'Start of Forecast'], loc='upper left')\n",
    "plt.title('Exponential Moving Average Results')\n",
    "plt.tight_layout()\n",
    "plt.show()\n",
    "\n",
    "# Only Test (일부 시점만 확대해서 그려보자!)\n",
    "fig, ax = plt.subplots(figsize=(12,4))\n",
    "data['1989-06':'1990-06'].plot(ax=ax)\n",
    "prediction_09['1989-06':'1990-06'].plot(ax=ax, label = 'Prediction (alpha=0.9)')\n",
    "prediction_05['1989-06':'1990-06'].plot(ax=ax, label = 'Prediction (alpha=0.5)')\n",
    "prediction_01['1989-06':'1990-06'].plot(ax=ax, label = 'Prediction (alpha=0.1)')\n",
    "\n",
    "ax.vlines(test.index[0], 349, 358, linestyle='--', color='r')\n",
    "ax.legend(['Raw Dataset', 'Prediction (alpha=0.9)', 'Prediction (alpha=0.5)', 'Prediction (alpha=0.1)', 'Start of Forecast'], loc='upper left')\n",
    "plt.title('Exponential Moving Average Results')\n",
    "plt.tight_layout()\n",
    "plt.show()"
   ]
  },
  {
   "cell_type": "code",
   "execution_count": null,
   "metadata": {
    "id": "CMxF8ksjnq_l"
   },
   "outputs": [],
   "source": [
    "'''\n",
    "Quantitative Evaluation\n",
    "'''\n",
    "print('-'*30)\n",
    "print('alpha  = 0.9')\n",
    "print(f'MSE: {np.round(mean_squared_error(test, SES_test_pred_09), 2)}')\n",
    "print(f'RMSE: {np.round(np.sqrt(mean_squared_error(test,SES_test_pred_09)), 2)}')\n",
    "print(f'MAE: {np.round(mean_absolute_error(test, SES_test_pred_09), 2)}')\n",
    "print(f'R2 score: {np.round(r2_score(test, SES_test_pred_09), 2)}')\n",
    "\n",
    "print('-'*30)\n",
    "print('alpha  = 0.5')\n",
    "print(f'MSE: {np.round(mean_squared_error(test, SES_test_pred_05), 2)}')\n",
    "print(f'RMSE: {np.round(np.sqrt(mean_squared_error(test,SES_test_pred_05)), 2)}')\n",
    "print(f'MAE: {np.round(mean_absolute_error(test, SES_test_pred_05), 2)}')\n",
    "print(f'R2 score: {np.round(r2_score(test, SES_test_pred_05), 2)}')\n",
    "\n",
    "print('-'*30)\n",
    "print('alpha  = 0.1')\n",
    "print(f'MSE: {np.round(mean_squared_error(test, SES_test_pred_01), 2)}')\n",
    "print(f'RMSE: {np.round(np.sqrt(mean_squared_error(test,SES_test_pred_01)), 2)}')\n",
    "print(f'MAE: {np.round(mean_absolute_error(test, SES_test_pred_01), 2)}')\n",
    "print(f'R2 score: {np.round(r2_score(test, SES_test_pred_01), 2)}')"
   ]
  },
  {
   "cell_type": "code",
   "execution_count": null,
   "metadata": {
    "id": "TEhMgXtYnq_l"
   },
   "outputs": [],
   "source": [
    "Image('/content/LG_time_series_day02_dataset/image/image_13.JPG')"
   ]
  },
  {
   "cell_type": "markdown",
   "metadata": {
    "id": "WWXA_2vunq_l"
   },
   "source": [
    "#### 4.2 Double Exponential Smoothing (이중지수평활법)"
   ]
  },
  {
   "cell_type": "code",
   "execution_count": null,
   "metadata": {
    "id": "hEHd063Inq_l"
   },
   "outputs": [],
   "source": [
    "Image('/content/LG_time_series_day02_dataset/image/image_14.JPG')"
   ]
  },
  {
   "cell_type": "code",
   "execution_count": null,
   "metadata": {
    "id": "a7Y3YzZlnq_l"
   },
   "outputs": [],
   "source": [
    "'''\n",
    "Searching Initialization Points\n",
    "\n",
    "초기값을 선형회귀를 활용하여 정의, 차주 선형회귀 강의에서 자세히 다룰 예정\n",
    "'''\n",
    "train_reg = train.reset_index()\n",
    "x = np.array(train_reg.index)\n",
    "y = train_reg['co2']\n",
    "\n",
    "x = sm.add_constant(x)\n",
    "model = sm.OLS(y,x)\n",
    "results = model.fit()\n",
    "\n",
    "print(results.summary())\n",
    "L_0, B_0 = results.params"
   ]
  },
  {
   "cell_type": "code",
   "execution_count": null,
   "metadata": {
    "id": "CNpOgIcDnq_m"
   },
   "outputs": [],
   "source": [
    "# 초기 테이블 구성\n",
    "DES_train = train.copy()\n",
    "DES_train = pd.concat([pd.DataFrame(np.zeros(1), columns=['co2']), DES_train])\n",
    "DES_train['Level'] = np.nan\n",
    "DES_train['Trend'] = np.nan\n",
    "DES_train['Forecast'] = np.nan\n",
    "\n",
    "DES_train.loc[0,'Level'] = L_0\n",
    "DES_train.loc[0,'Trend'] = B_0\n",
    "\n",
    "DES_train"
   ]
  },
  {
   "cell_type": "code",
   "execution_count": null,
   "metadata": {
    "id": "9-W22rl5nq_m"
   },
   "outputs": [],
   "source": [
    "Image('/content/LG_time_series_day02_dataset/image/image_15.JPG')"
   ]
  },
  {
   "cell_type": "code",
   "execution_count": null,
   "metadata": {
    "id": "yKKxOifVnq_m"
   },
   "outputs": [],
   "source": [
    "def Double_Exponential_Smoothing(table, alpha, beta):\n",
    "    # table = DES_train.copy()\n",
    "    # alpha = 0.16\n",
    "    # beta = 0.1\n",
    "    for i in range(len(table)):\n",
    "        if i == 0: # Skip initialization point\n",
    "            continue\n",
    "\n",
    "        x = table.loc[list(table.index)[i],'co2'] # 316.1\n",
    "        L_prev = table.loc[list(table.index)[i-1],'Level'] # 311.994\n",
    "        T_prev = table.loc[list(table.index)[i-1],'Trend'] # 0.023\n",
    "        \n",
    "        table.loc[list(table.index)[i],'Level'] = alpha*x + (1-alpha)*(L_prev+T_prev)\n",
    "        table.loc[list(table.index)[i],'Trend'] = beta*(table.loc[list(table.index)[i],'Level']-L_prev) + (1-beta)*(T_prev)\n",
    "\n",
    "    L_Pred = table.iloc[-1,1]\n",
    "    T_Pred = table.iloc[-1,2]\n",
    "\n",
    "    DES_test_pred = L_Pred + range(1,len(test)+1)*T_Pred\n",
    "    DES_test_pred = pd.DataFrame(DES_test_pred, index = test.index, columns=['DES'])\n",
    "        \n",
    "    return table, DES_test_pred"
   ]
  },
  {
   "cell_type": "code",
   "execution_count": null,
   "metadata": {
    "id": "f21O6RB2nq_m"
   },
   "outputs": [],
   "source": [
    "Image('/content/LG_time_series_day02_dataset/image/image_16.JPG')"
   ]
  },
  {
   "cell_type": "code",
   "execution_count": null,
   "metadata": {
    "id": "JhZRAOhUnq_m"
   },
   "outputs": [],
   "source": [
    "DES_train_pred, DES_test_pred = Double_Exponential_Smoothing(DES_train, 0.16, 0.1)"
   ]
  },
  {
   "cell_type": "code",
   "execution_count": null,
   "metadata": {
    "id": "urJpVzdEnq_n"
   },
   "outputs": [],
   "source": [
    "print('Double Exponential Smoothing Train Results')\n",
    "print(DES_train_pred)\n",
    "print('-'*30)\n",
    "print('Double Exponential Smoothing Test results')\n",
    "print(DES_test_pred)"
   ]
  },
  {
   "cell_type": "code",
   "execution_count": null,
   "metadata": {
    "id": "H5Eg2_zVnq_n"
   },
   "outputs": [],
   "source": [
    "'''\n",
    "Visualization \n",
    "'''\n",
    "# Train and Test\n",
    "train_pred = pd.DataFrame(DES_train_pred.iloc[1:,1])\n",
    "train_pred.columns = ['DES']\n",
    "DES_pred = pd.concat([train_pred, DES_test_pred])\n",
    "\n",
    "fig, ax = plt.subplots(figsize=(12,4))\n",
    "data.plot(ax=ax)\n",
    "DES_pred.plot(ax=ax, label = 'Prediction (alpha=0.16, beta=0.1)')\n",
    "ax.vlines(test.index[0], 310, 370, linestyle='--', color='r')\n",
    "ax.legend(['Raw Dataset', 'DEMA (alpha=0.16, beta=0.1)', 'Start of Forecast'], loc='upper left')\n",
    "plt.title('Double Exponential Moving Average Results')\n",
    "plt.tight_layout()\n",
    "plt.show()"
   ]
  },
  {
   "cell_type": "code",
   "execution_count": null,
   "metadata": {
    "id": "f-Rw1NW9nq_n"
   },
   "outputs": [],
   "source": [
    "'''\n",
    "Quantitative Evaluation\n",
    "'''\n",
    "print('-'*30)\n",
    "print('alpha  = 0.16, beta = 0.1')\n",
    "print(f'MSE: {np.round(mean_squared_error(test, DES_test_pred), 2)}')\n",
    "print(f'RMSE: {np.round(np.sqrt(mean_squared_error(test,DES_test_pred)), 2)}')\n",
    "print(f'MAE: {np.round(mean_absolute_error(test, DES_test_pred), 2)}')\n",
    "print(f'R2 score: {np.round(r2_score(test, DES_test_pred), 2)}')"
   ]
  },
  {
   "cell_type": "code",
   "execution_count": null,
   "metadata": {
    "id": "o2mDAqHWnq_n"
   },
   "outputs": [],
   "source": [
    "Image('/content/LG_time_series_day02_dataset/image/image_17.JPG')"
   ]
  },
  {
   "cell_type": "markdown",
   "metadata": {
    "id": "BndWYB81nq_n"
   },
   "source": [
    "#### 4.3 Holt-Winter's Exponential Smoothing (홀트-윈터 지수평활법)"
   ]
  },
  {
   "cell_type": "code",
   "execution_count": null,
   "metadata": {
    "id": "wDEVx3b1nq_o"
   },
   "outputs": [],
   "source": [
    "Image('/content/LG_time_series_day02_dataset/image/image_18.JPG')"
   ]
  },
  {
   "cell_type": "markdown",
   "metadata": {
    "id": "Y8P_ADB-nq_o"
   },
   "source": [
    "##### 4.3.1 Additive Winter's method"
   ]
  },
  {
   "cell_type": "code",
   "execution_count": null,
   "metadata": {
    "id": "m_Io9fkrnq_o"
   },
   "outputs": [],
   "source": [
    "# https://www.statsmodels.org/dev/generated/statsmodels.tsa.holtwinters.ExponentialSmoothing.html\n",
    "\n",
    "# HW_add_model = ExponentialSmoothing(train, trend='add', seasonal='add').fit(smoothing_level=alpha, smoothing_trend=gamma, smoothing_seasonal=delta)\n",
    "HW_add_model = ExponentialSmoothing(train, trend='add', seasonal='add').fit(optimized=True)\n",
    "HW_add_model.summary()"
   ]
  },
  {
   "cell_type": "code",
   "execution_count": null,
   "metadata": {
    "id": "NK74bRDmnq_o"
   },
   "outputs": [],
   "source": [
    "HW_add_train_pred = HW_add_model.fittedvalues\n",
    "HW_add_test_pred = HW_add_model.forecast(len(test))\n",
    "HW_add_test_pred = pd.DataFrame(HW_add_test_pred, index=test.index, columns=['HW_add'])\n",
    "\n",
    "print('Additive Holt-Winter Exponential Smoothing Train Results')\n",
    "print(HW_add_train_pred)\n",
    "print('-'*30)\n",
    "print('Additive Holt-Winter Smoothing Test results')\n",
    "print(HW_add_test_pred)"
   ]
  },
  {
   "cell_type": "code",
   "execution_count": null,
   "metadata": {
    "id": "BywpbwqVnq_o"
   },
   "outputs": [],
   "source": [
    "'''\n",
    "Visualization \n",
    "'''\n",
    "# Train and Test\n",
    "train_pred = pd.DataFrame(HW_add_train_pred, columns=['HW_add'])\n",
    "HW_add_pred = pd.concat([train_pred, HW_add_test_pred])\n",
    "\n",
    "fig, ax = plt.subplots(figsize=(12,4))\n",
    "data.plot(ax=ax)\n",
    "HW_add_pred.plot(ax=ax, label = 'Prediction (Additive)')\n",
    "ax.vlines(test.index[0], 310, 370, linestyle='--', color='r')\n",
    "ax.legend(['Raw Dataset', 'HW (Additive)', 'Start of Forecast'], loc='upper left')\n",
    "plt.title('Holt-Winter Exponential Moving Average Results')\n",
    "plt.tight_layout()\n",
    "plt.show()"
   ]
  },
  {
   "cell_type": "markdown",
   "metadata": {
    "id": "-0iKTWStnq_o"
   },
   "source": [
    "##### 4.3.2 Multiplicative Winter's method"
   ]
  },
  {
   "cell_type": "code",
   "execution_count": null,
   "metadata": {
    "id": "FYVG-cZynq_p"
   },
   "outputs": [],
   "source": [
    "HW_mul_model = ExponentialSmoothing(train, trend='mul', seasonal='mul').fit(optimized=True)\n",
    "HW_mul_model.summary()"
   ]
  },
  {
   "cell_type": "code",
   "execution_count": null,
   "metadata": {
    "id": "oG-khYgcnq_p"
   },
   "outputs": [],
   "source": [
    "HW_mul_train_pred = HW_mul_model.fittedvalues\n",
    "HW_mul_test_pred = HW_mul_model.forecast(len(test))\n",
    "HW_mul_test_pred = pd.DataFrame(HW_mul_test_pred, index=test.index, columns=['HW_mul'])\n",
    "\n",
    "print('Multiplicative Holt-Winter Exponential Smoothing Train Results')\n",
    "print(HW_mul_train_pred)\n",
    "print('-'*30)\n",
    "print('Multiplicative Holt-Winter Smoothing Test results')\n",
    "print(HW_mul_test_pred)"
   ]
  },
  {
   "cell_type": "code",
   "execution_count": null,
   "metadata": {
    "id": "bkGynm-enq_p"
   },
   "outputs": [],
   "source": [
    "'''\n",
    "Visualization \n",
    "'''\n",
    "# Train and Test\n",
    "train_pred = pd.DataFrame(HW_mul_train_pred, columns=['HW_mul'])\n",
    "HW_mul_pred = pd.concat([train_pred, HW_mul_test_pred])\n",
    "\n",
    "fig, ax = plt.subplots(figsize=(12,4))\n",
    "data.plot(ax=ax)\n",
    "HW_mul_pred.plot(ax=ax, label = 'Prediction (Multiplicative)')\n",
    "ax.vlines(test.index[0], 310, 370, linestyle='--', color='r')\n",
    "ax.legend(['Raw Dataset', 'HW (Multiplicative)', 'Start of Forecast'], loc='upper left')\n",
    "plt.title('Holt-Winter Exponential Moving Average Results')\n",
    "plt.tight_layout()\n",
    "plt.show()"
   ]
  },
  {
   "cell_type": "code",
   "execution_count": null,
   "metadata": {
    "id": "BqPdMRA3nq_p"
   },
   "outputs": [],
   "source": [
    "'''\n",
    "Comparing\n",
    "'''\n",
    "fig, ax = plt.subplots(figsize=(12,4))\n",
    "data['1990-01':].plot(ax=ax)\n",
    "MA_test_pred['1990-01':].plot(ax=ax, label = 'Prediction (N=5)')\n",
    "SES_test_pred_09['1990-01':].plot(ax=ax, label = 'Prediction (alpha=0.9)')\n",
    "DES_test_pred['1990-01':].plot(ax=ax, label = 'Prediction (alpha=0.16, beta=0.1)')\n",
    "HW_add_test_pred['1990-01':].plot(ax=ax, label = 'Prediction (additive)')\n",
    "HW_mul_test_pred['1990-01':].plot(ax=ax, label = 'Prediction (Multiplicative)')\n",
    "\n",
    "\n",
    "ax.legend(['Raw Dataset', 'MA (N=5)', 'SES (alpha=0.9)', 'DES (alpha=0.16, beta=0.1)', 'HW (Additive)', 'HW (Multiplicative)'], loc='upper left')\n",
    "plt.title('Double Exponential Moving Average Results')\n",
    "plt.tight_layout()\n",
    "plt.show()"
   ]
  },
  {
   "cell_type": "code",
   "execution_count": null,
   "metadata": {
    "id": "LMrdCPsnnq_p"
   },
   "outputs": [],
   "source": [
    "'''\n",
    "Quantitative Evaluation\n",
    "'''\n",
    "print('-'*55)\n",
    "print('Moving Average (N = 5)')\n",
    "print(f'MSE: {np.round(mean_squared_error(test, MA_test_pred), 2)}')\n",
    "print(f'RMSE: {np.round(np.sqrt(mean_squared_error(test,MA_test_pred)), 2)}')\n",
    "print(f'MAE: {np.round(mean_absolute_error(test, MA_test_pred), 2)}')\n",
    "print(f'R2 score: {np.round(r2_score(test, MA_test_pred), 2)}')\n",
    "\n",
    "print('-'*55)\n",
    "print('Simple Exponential Smoothing (alpha = 0.9)')\n",
    "print(f'MSE: {np.round(mean_squared_error(test, SES_test_pred_09), 2)}')\n",
    "print(f'RMSE: {np.round(np.sqrt(mean_squared_error(test,SES_test_pred_09)), 2)}')\n",
    "print(f'MAE: {np.round(mean_absolute_error(test, SES_test_pred_09), 2)}')\n",
    "print(f'R2 score: {np.round(r2_score(test, SES_test_pred_09), 2)}')\n",
    "\n",
    "print('-'*55)\n",
    "print('Double Exponential Smoothing (alpha = 0.16, beta = 0.1)')\n",
    "print(f'MSE: {np.round(mean_squared_error(test, DES_test_pred), 2)}')\n",
    "print(f'RMSE: {np.round(np.sqrt(mean_squared_error(test,DES_test_pred)), 2)}')\n",
    "print(f'MAE: {np.round(mean_absolute_error(test, DES_test_pred), 2)}')\n",
    "print(f'R2 score: {np.round(r2_score(test, DES_test_pred), 2)}')\n",
    "\n",
    "print('-'*55)\n",
    "print('Additive Holt-Winter Exponential Smoothing')\n",
    "print(f'MSE: {np.round(mean_squared_error(test, HW_add_test_pred), 2)}')\n",
    "print(f'RMSE: {np.round(np.sqrt(mean_squared_error(test,HW_add_test_pred)), 2)}')\n",
    "print(f'MAE: {np.round(mean_absolute_error(test, HW_add_test_pred), 2)}')\n",
    "print(f'R2 score: {np.round(r2_score(test, HW_add_test_pred), 2)}')\n",
    "\n",
    "print('-'*55)\n",
    "print('Multiplicative Holt-Winter Exponential Smoothing')\n",
    "print(f'MSE: {np.round(mean_squared_error(test, HW_mul_test_pred), 2)}')\n",
    "print(f'RMSE: {np.round(np.sqrt(mean_squared_error(test,HW_mul_test_pred)), 2)}')\n",
    "print(f'MAE: {np.round(mean_absolute_error(test, HW_mul_test_pred), 2)}')\n",
    "print(f'R2 score: {np.round(r2_score(test, HW_mul_test_pred), 2)}')"
   ]
  },
  {
   "cell_type": "code",
   "execution_count": null,
   "metadata": {
    "id": "i288JjRZnq_q"
   },
   "outputs": [],
   "source": [
    "test_predict_results = pd.concat([test, MA_test_pred, SES_test_pred_09, DES_test_pred, HW_add_test_pred, HW_mul_test_pred], axis=1)\n",
    "test_predict_results"
   ]
  },
  {
   "cell_type": "markdown",
   "metadata": {
    "id": "gqBHwh5-nq_q"
   },
   "source": [
    "# EOD"
   ]
  }
 ],
 "metadata": {
  "colab": {
   "collapsed_sections": [],
   "name": "통계기반시계열분석 2회차 - 1.ipynb",
   "provenance": [
    {
     "file_id": "https://github.com/Jiyoon52/LG_time_series_day02_dataset/blob/main/%ED%86%B5%EA%B3%84%EA%B8%B0%EB%B0%98%EC%8B%9C%EA%B3%84%EC%97%B4%EB%B6%84%EC%84%9D%202%ED%9A%8C%EC%B0%A8%20-%201.ipynb",
     "timestamp": 1642046886935
    }
   ]
  },
  "kernelspec": {
   "display_name": "Python 3",
   "language": "python",
   "name": "python3"
  },
  "language_info": {
   "codemirror_mode": {
    "name": "ipython",
    "version": 3
   },
   "file_extension": ".py",
   "mimetype": "text/x-python",
   "name": "python",
   "nbconvert_exporter": "python",
   "pygments_lexer": "ipython3",
   "version": "3.7.6"
  },
  "toc": {
   "base_numbering": "1",
   "nav_menu": {},
   "number_sections": false,
   "sideBar": true,
   "skip_h1_title": false,
   "title_cell": "Table of Contents",
   "title_sidebar": "Contents",
   "toc_cell": false,
   "toc_position": {
    "height": "calc(100% - 180px)",
    "left": "10px",
    "top": "150px",
    "width": "357.448px"
   },
   "toc_section_display": true,
   "toc_window_display": true
  }
 },
 "nbformat": 4,
 "nbformat_minor": 1
}
